{
 "cells": [
  {
   "cell_type": "code",
   "execution_count": 56,
   "metadata": {},
   "outputs": [],
   "source": [
    "from selenium import webdriver\n",
    "import time\n",
    "\n",
    "# chromeドライバーを起動する時のオプションを設定\n",
    "options = webdriver.ChromeOptions()"
   ]
  },
  {
   "cell_type": "code",
   "execution_count": 57,
   "metadata": {},
   "outputs": [],
   "source": [
    "options.add_argument(\"--headless\")  # ヘッドレスで起動\n",
    "options.add_argument('--no-sandbox') # 仮想環境下では、sandboxで起動すると失敗するので無効にする\n",
    "options.add_argument('--disable-gpu') # ヘッドレスモードで起動するときに必要\n",
    "options.add_argument('--window-size=1280,1024')  # 画面サイズの指定\n",
    "options.add_argument(\"--disable-application-cache\")  # HTML5のApplication Cacheを無効にします。\n",
    "options.add_argument('--no-sandbox') # google-chrome-stableが動くために必要\n",
    "options.add_argument('--hide-scrollbars') # スクロールバーを隠す\n",
    "options.add_argument('--enable-logging') # console.log　保存用\n",
    "options.add_argument('--log-level=0')\n",
    "options.add_argument('--v=99')\n",
    "options.add_argument('--ignore-certificate-errors') # SSLセキュリティ証明書のエラーページを表示しない\n",
    "options.add_argument('--incognito') # シークレット モードincognito.gifで起動\n",
    "\n",
    "# user agent\n",
    "options.add_argument('user-agent=Mozilla/5.0 (Windows NT 6.1) AppleWebKit/537.36 (KHTML, like Gecko) Chrome/86.0.4240.111 Safari/537.36' )\n",
    "\n",
    "\n",
    "# chromeドライバーを起動\n",
    "driver = webdriver.Chrome(options=options)"
   ]
  },
  {
   "cell_type": "code",
   "execution_count": 60,
   "metadata": {},
   "outputs": [
    {
     "name": "stdout",
     "output_type": "stream",
     "text": [
      "Amazon.co.jp : ゲーム\n"
     ]
    },
    {
     "data": {
      "text/plain": [
       "True"
      ]
     },
     "execution_count": 60,
     "metadata": {},
     "output_type": "execute_result"
    }
   ],
   "source": [
    "# chromeドライバーを起動\n",
    "driver = webdriver.Chrome(options=options)\n",
    "# googleを開く\n",
    "# driver.get(\"https://www.amazon.co.jp/\")\n",
    "driver.get(\"https://www.amazon.co.jp/s?k=%E3%82%B2%E3%83%BC%E3%83%A0&__mk_ja_JP=%E3%82%AB%E3%82%BF%E3%82%AB%E3%83%8A&ref=nb_sb_noss_2\")\n",
    "#driver.get(\"https://www.amazon.co.jp/s?k=%E3%83%93%E3%83%BC%E3%83%AB&page=2&__mk_ja_JP=%E3%82%AB%E3%82%BF%E3%82%AB%E3%83%8A\")\n",
    "\n",
    "# 画面が表示されるまで待つ\n",
    "time.sleep(5)\n",
    "\n",
    "# javascriptを実行してページの最下部へ移動\n",
    "# driver.execute_script(\"window.scrollTo(0, document.body.scrollHeight);\")\n",
    "\n",
    "print(driver.title)\n",
    "# スクリーンショットを撮る\n",
    "driver.save_screenshot(\"./screenshot.png\")"
   ]
  },
  {
   "cell_type": "code",
   "execution_count": 62,
   "metadata": {},
   "outputs": [
    {
     "name": "stdout",
     "output_type": "stream",
     "text": [
      "B07YXRGDQ1\n",
      "ASTRO Gaming PS4 コントローラー C40 ワイヤレス/有線 PlayStation 4 ライセンス品 C40TR 国内正規品\n",
      "B07SR8MHVS\n",
      "ASTRO Gaming PS4 ヘッドセット A40TR+MixAmp Pro TR ミックスアンプ付き 有線 5.1ch 3.5mm usb PS5 PS4 PC Mac Switch スマホ A40TR-MAP-002 国内正規品\n",
      "B07SR8LT6B\n",
      "ASTRO Gaming PS4 ヘッドセット A50 WIRELESS + BASE STATION 5.1ch ワイヤレス接続 PS5 PS4 PC Mac A50WL-002 国内正規品\n",
      "二大パズルゲームの頂上決戦、再び！(2020年12月10日発売予定)\n",
      "お部屋でじっくり遊べるボードゲーム\n"
     ]
    }
   ],
   "source": [
    " # 検証A:リザルトelement取得\n",
    "search_result = driver.find_element_by_xpath(\"//div[@class='s-main-slot s-result-list s-search-results sg-row']\")\n",
    "ad_list = search_result.find_elements_by_xpath(\"//span[@data-component-type='s-ads-metrics']\")\n",
    "    \n",
    "for ad_element in ad_list:\n",
    "    # ページ上部の広告取得\n",
    "    top_ads = ad_element.find_elements_by_xpath(\".//div[@data-cel-widget='MultiCardCreativeDesktop']//div[@data-asin]\")\n",
    "    #top_ads = ad_element.find_elements_by_xpath(\".//div[contains(@class,'_multi-card-creative-desktop_Container_container')]//div[@data-asin]\")\n",
    "    if len(top_ads) > 0:\n",
    "        for top_ad in top_ads:\n",
    "            print(top_ad.get_attribute(\"data-asin\"))\n",
    "            #print(top_ad.find_element_by_xpath(\"./div\").get_attribute(\"aria-label\"))\n",
    "            print(top_ad.find_element_by_xpath(\".//span[@data-click-el='title']\").text)\n",
    "\n",
    "    # ページ下部の広告取得\n",
    "    bottom_ads = ad_element.find_elements_by_xpath(\".//div[@data-creative-type='MultiBrandCreativeDesktop']\")\n",
    "    #bottom_ads = ad_element.find_elements_by_xpath(\"./div[@class='a-section a-spacing-top-medium']/span\")\n",
    "    if len(bottom_ads) > 0:\n",
    "        for bottom_ad in bottom_ads:\n",
    "            print(bottom_ad.find_element_by_xpath(\"./div/div/a/div/span/span\").text)"
   ]
  },
  {
   "cell_type": "code",
   "execution_count": 63,
   "metadata": {},
   "outputs": [
    {
     "name": "stdout",
     "output_type": "stream",
     "text": [
      "GET ADHolder\n",
      "=======================\n",
      "B008N9NT4E\n",
      "エルフェンランド (Elfenland) ボードゲーム\n",
      "B0813HM4QC\n",
      "ハズブロボードゲーム バトルシップ A3264 正規品\n",
      "B0094BIMG0\n",
      "メビウスゲームズ おばけキャッチ 日本語版\n",
      "B0814CC2VX\n",
      "EXRACING ゲーミングチェア オフィスチェア 【 人間工学に基づいた3D設計 】 非再生ウレタン採用 (ブルー) EX-001-BLUE\n"
     ]
    }
   ],
   "source": [
    "# プロダクト広告取得\n",
    "print(\"GET ADHolder\")\n",
    "print(\"=======================\")\n",
    "asin_list = search_result.find_elements_by_xpath(\".//div[@data-asin and contains(@class, 'AdHolder')]\")\n",
    "if len(asin_list) > 0:\n",
    "    for asin_item in asin_list:\n",
    "        print(asin_item.get_attribute(\"data-asin\"))\n",
    "        print(asin_item.find_element_by_xpath(\".//h2/a/span\").text)"
   ]
  }
 ],
 "metadata": {
  "kernelspec": {
   "display_name": "Python 3",
   "language": "python",
   "name": "python3"
  },
  "language_info": {
   "codemirror_mode": {
    "name": "ipython",
    "version": 3
   },
   "file_extension": ".py",
   "mimetype": "text/x-python",
   "name": "python",
   "nbconvert_exporter": "python",
   "pygments_lexer": "ipython3",
   "version": "3.8.6"
  }
 },
 "nbformat": 4,
 "nbformat_minor": 4
}
